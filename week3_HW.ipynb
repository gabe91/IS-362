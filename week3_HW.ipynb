{
 "cells": [
  {
   "cell_type": "code",
   "execution_count": 2,
   "metadata": {},
   "outputs": [],
   "source": [
    "import pandas as pd\n",
    "import numpy as np"
   ]
  },
  {
   "cell_type": "code",
   "execution_count": 4,
   "metadata": {},
   "outputs": [],
   "source": [
    "miles = np.array([55, 120, 150, 210, 287, 300])\n",
    "series = pd.Series(miles)"
   ]
  },
  {
   "cell_type": "code",
   "execution_count": 5,
   "metadata": {},
   "outputs": [],
   "source": [
    "each_Day = np.array([miles[0]])"
   ]
  },
  {
   "cell_type": "code",
   "execution_count": 6,
   "metadata": {},
   "outputs": [
    {
     "name": "stdout",
     "output_type": "stream",
     "text": [
      "Miles each day: \n",
      "0    55\n",
      "1    65\n",
      "2    30\n",
      "3    60\n",
      "4    77\n",
      "5    13\n",
      "dtype: int32\n"
     ]
    }
   ],
   "source": [
    "for i in range(1, len(series)):\n",
    "    each_Day = np.append(each_Day, series[i] - series[i-1])\n",
    "print(\"Miles each day: \")\n",
    "print(pd.Series(each_Day))"
   ]
  }
 ],
 "metadata": {
  "kernelspec": {
   "display_name": "Python 3.10.4 ('IS362week3')",
   "language": "python",
   "name": "python3"
  },
  "language_info": {
   "codemirror_mode": {
    "name": "ipython",
    "version": 3
   },
   "file_extension": ".py",
   "mimetype": "text/x-python",
   "name": "python",
   "nbconvert_exporter": "python",
   "pygments_lexer": "ipython3",
   "version": "3.10.4"
  },
  "orig_nbformat": 4,
  "vscode": {
   "interpreter": {
    "hash": "1972b9cee898cdd721475d5b56e6c55709cfecd03bdfa08d173a0dd7961af9a7"
   }
  }
 },
 "nbformat": 4,
 "nbformat_minor": 2
}
