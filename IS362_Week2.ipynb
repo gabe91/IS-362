{
 "cells": [
  {
   "cell_type": "markdown",
   "id": "0d14479b",
   "metadata": {},
   "source": [
    "Set comprehension for creating a new set"
   ]
  },
  {
   "cell_type": "code",
   "execution_count": 2,
   "id": "007aca59",
   "metadata": {},
   "outputs": [
    {
     "name": "stdout",
     "output_type": "stream",
     "text": [
      "New set using set comprehensions:  {8, 0, 10, 4}\n"
     ]
    }
   ],
   "source": [
    "Set = [1, 4, 5, 8, 0, 10]\n",
    "\n",
    "set_comp = {var for var in Set if var % 2 == 0}\n",
    "print(\"New set using set comprehensions: \", set_comp)"
   ]
  },
  {
   "cell_type": "code",
   "execution_count": 3,
   "id": "938e0594",
   "metadata": {},
   "outputs": [],
   "source": [
    "a = (\"John\", \"David\", \"Lawrence\")\n",
    "b = (\"Sarah\", \"Borah\", \"Astrid\")\n",
    "\n",
    "x = zip (a, b)"
   ]
  },
  {
   "cell_type": "markdown",
   "id": "8f13fd14",
   "metadata": {},
   "source": [
    "Convert zip object into tuple so that it can iterable"
   ]
  },
  {
   "cell_type": "code",
   "execution_count": 4,
   "id": "0b009929",
   "metadata": {},
   "outputs": [
    {
     "name": "stdout",
     "output_type": "stream",
     "text": [
      "(('John', 'Sarah'), ('David', 'Borah'), ('Lawrence', 'Astrid'))\n"
     ]
    }
   ],
   "source": [
    "print(tuple(x))"
   ]
  },
  {
   "cell_type": "code",
   "execution_count": null,
   "id": "c8e094e2",
   "metadata": {},
   "outputs": [],
   "source": []
  }
 ],
 "metadata": {
  "kernelspec": {
   "display_name": "Python 3 (ipykernel)",
   "language": "python",
   "name": "python3"
  },
  "language_info": {
   "codemirror_mode": {
    "name": "ipython",
    "version": 3
   },
   "file_extension": ".py",
   "mimetype": "text/x-python",
   "name": "python",
   "nbconvert_exporter": "python",
   "pygments_lexer": "ipython3",
   "version": "3.10.4"
  }
 },
 "nbformat": 4,
 "nbformat_minor": 5
}
